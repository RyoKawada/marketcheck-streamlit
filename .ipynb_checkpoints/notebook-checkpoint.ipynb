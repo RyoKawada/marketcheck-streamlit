{
 "cells": [
  {
   "cell_type": "code",
   "execution_count": 1,
   "id": "8fb4545e",
   "metadata": {},
   "outputs": [],
   "source": [
    "import pandas as pd\n",
    "import yfinance as yf\n",
    "import matplotlib.pyplot as plt"
   ]
  },
  {
   "cell_type": "code",
   "execution_count": 97,
   "id": "2bfda7c3",
   "metadata": {},
   "outputs": [
    {
     "data": {
      "text/html": [
       "<div>\n",
       "<style scoped>\n",
       "    .dataframe tbody tr th:only-of-type {\n",
       "        vertical-align: middle;\n",
       "    }\n",
       "\n",
       "    .dataframe tbody tr th {\n",
       "        vertical-align: top;\n",
       "    }\n",
       "\n",
       "    .dataframe thead th {\n",
       "        text-align: right;\n",
       "    }\n",
       "</style>\n",
       "<table border=\"1\" class=\"dataframe\">\n",
       "  <thead>\n",
       "    <tr style=\"text-align: right;\">\n",
       "      <th>Date</th>\n",
       "      <th>29 September 2022</th>\n",
       "      <th>30 September 2022</th>\n",
       "      <th>03 October 2022</th>\n",
       "      <th>04 October 2022</th>\n",
       "      <th>05 October 2022</th>\n",
       "      <th>06 October 2022</th>\n",
       "      <th>07 October 2022</th>\n",
       "      <th>10 October 2022</th>\n",
       "      <th>11 October 2022</th>\n",
       "      <th>12 October 2022</th>\n",
       "    </tr>\n",
       "    <tr>\n",
       "      <th>Name</th>\n",
       "      <th></th>\n",
       "      <th></th>\n",
       "      <th></th>\n",
       "      <th></th>\n",
       "      <th></th>\n",
       "      <th></th>\n",
       "      <th></th>\n",
       "      <th></th>\n",
       "      <th></th>\n",
       "      <th></th>\n",
       "    </tr>\n",
       "  </thead>\n",
       "  <tbody>\n",
       "    <tr>\n",
       "      <th>apple</th>\n",
       "      <td>142.479996</td>\n",
       "      <td>138.199997</td>\n",
       "      <td>142.449997</td>\n",
       "      <td>146.100006</td>\n",
       "      <td>146.399994</td>\n",
       "      <td>145.429993</td>\n",
       "      <td>140.089996</td>\n",
       "      <td>140.419998</td>\n",
       "      <td>138.979996</td>\n",
       "      <td>138.339996</td>\n",
       "    </tr>\n",
       "  </tbody>\n",
       "</table>\n",
       "</div>"
      ],
      "text/plain": [
       "Date   29 September 2022  30 September 2022  03 October 2022  04 October 2022  \\\n",
       "Name                                                                            \n",
       "apple         142.479996         138.199997       142.449997       146.100006   \n",
       "\n",
       "Date   05 October 2022  06 October 2022  07 October 2022  10 October 2022  \\\n",
       "Name                                                                        \n",
       "apple       146.399994       145.429993       140.089996       140.419998   \n",
       "\n",
       "Date   11 October 2022  12 October 2022  \n",
       "Name                                     \n",
       "apple       138.979996       138.339996  "
      ]
     },
     "execution_count": 97,
     "metadata": {},
     "output_type": "execute_result"
    }
   ],
   "source": [
    "days = 10\n",
    "\n",
    "tickers = {\n",
    "    \n",
    "}\n",
    "\n",
    "\n",
    "ap = yf.Ticker(\"AAPL\")\n",
    "ap = ap.history(period=f\"{days}d\")\n",
    "ap.index = ap.index.strftime(\"%d %B %Y\")\n",
    "ap = ap[[\"Close\"]]\n",
    "ap.columns = [\"apple\"]\n",
    "ap = ap.T\n",
    "ap.index.name = \"Name\"\n",
    "\n",
    "ap"
   ]
  },
  {
   "cell_type": "code",
   "execution_count": null,
   "id": "c57bb12e",
   "metadata": {},
   "outputs": [],
   "source": []
  },
  {
   "cell_type": "code",
   "execution_count": null,
   "id": "1a9688d7",
   "metadata": {},
   "outputs": [],
   "source": []
  },
  {
   "cell_type": "code",
   "execution_count": null,
   "id": "b6c966c6",
   "metadata": {},
   "outputs": [],
   "source": []
  },
  {
   "cell_type": "code",
   "execution_count": null,
   "id": "c86d3fec",
   "metadata": {},
   "outputs": [],
   "source": [
    "ms = yf.Ticker(\"MSFT\").history(period=f\"{days}d\")\n",
    "ms.head()"
   ]
  },
  {
   "cell_type": "code",
   "execution_count": null,
   "id": "1d7eae0a",
   "metadata": {},
   "outputs": [],
   "source": []
  },
  {
   "cell_type": "code",
   "execution_count": null,
   "id": "69de97b3",
   "metadata": {},
   "outputs": [],
   "source": []
  },
  {
   "cell_type": "code",
   "execution_count": null,
   "id": "347ac4e1",
   "metadata": {},
   "outputs": [],
   "source": []
  },
  {
   "cell_type": "code",
   "execution_count": null,
   "id": "b5865640",
   "metadata": {},
   "outputs": [],
   "source": []
  },
  {
   "cell_type": "code",
   "execution_count": null,
   "id": "e760265c",
   "metadata": {},
   "outputs": [],
   "source": []
  },
  {
   "cell_type": "code",
   "execution_count": null,
   "id": "ed240b3a",
   "metadata": {},
   "outputs": [],
   "source": []
  },
  {
   "cell_type": "code",
   "execution_count": null,
   "id": "cf084062",
   "metadata": {},
   "outputs": [],
   "source": []
  },
  {
   "cell_type": "code",
   "execution_count": null,
   "id": "e1adf507",
   "metadata": {},
   "outputs": [],
   "source": []
  },
  {
   "cell_type": "code",
   "execution_count": null,
   "id": "7cf47247",
   "metadata": {},
   "outputs": [],
   "source": []
  },
  {
   "cell_type": "code",
   "execution_count": null,
   "id": "7d56725c",
   "metadata": {},
   "outputs": [],
   "source": []
  },
  {
   "cell_type": "code",
   "execution_count": null,
   "id": "0572780d",
   "metadata": {},
   "outputs": [],
   "source": []
  },
  {
   "cell_type": "code",
   "execution_count": null,
   "id": "36984ae5",
   "metadata": {},
   "outputs": [],
   "source": []
  },
  {
   "cell_type": "code",
   "execution_count": null,
   "id": "e91266a2",
   "metadata": {},
   "outputs": [],
   "source": []
  },
  {
   "cell_type": "code",
   "execution_count": null,
   "id": "01a8080e",
   "metadata": {},
   "outputs": [],
   "source": []
  },
  {
   "cell_type": "code",
   "execution_count": 6,
   "id": "6109d3e1",
   "metadata": {},
   "outputs": [],
   "source": [
    "# トヨタ\n",
    "# t7203 = yf.Ticker(\"7203.T\")\n",
    "\n",
    "# ソフトバンク\n",
    "# t9984 = yf.Ticker(\"9984.T\")\n",
    "\n",
    "# 三菱UFJ\n",
    "# t8306 = yf.Ticker(\"8306.T\")\n",
    "\n",
    "# キーエンス\n",
    "# t6861 = yf.Ticker(\"6861.T\")"
   ]
  }
 ],
 "metadata": {
  "kernelspec": {
   "display_name": "Python 3",
   "language": "python",
   "name": "python3"
  },
  "language_info": {
   "codemirror_mode": {
    "name": "ipython",
    "version": 3
   },
   "file_extension": ".py",
   "mimetype": "text/x-python",
   "name": "python",
   "nbconvert_exporter": "python",
   "pygments_lexer": "ipython3",
   "version": "3.8.8"
  }
 },
 "nbformat": 4,
 "nbformat_minor": 5
}
